{
 "cells": [
  {
   "cell_type": "markdown",
   "metadata": {},
   "source": [
    "# Sintaxis de R\n",
    "R tiene diferentes formas de esribir el código. El objetivo de esta guía es las conozcas ya que te encontratás con ellas o su combinación cuando leas código de otras personas. Las formas de sintaxis son:\n",
    "- Sintaxis de signo peso\n",
    "- Sintaxis de fórmula\n",
    "- Sintaxis del Tidyverse\n",
    "\n",
    "En la presente guía usaremos como modelo la base de datos mtcars que está incluida en R.  \n",
    "Fuente: https://www.amelia.mn/Syntax-cheatsheet.pdf"
   ]
  },
  {
   "cell_type": "markdown",
   "metadata": {},
   "source": [
    "## 1. Sintaxis de signo peso o R base\n",
    "Es la sintaxis base de R, se caracteriza por usar el simbolo de peso $. La estructura de esta sintaxis es:"
   ]
  },
  {
   "cell_type": "code",
   "execution_count": null,
   "metadata": {},
   "outputs": [],
   "source": [
    "objetivo(data$x,data$y)"
   ]
  },
  {
   "cell_type": "markdown",
   "metadata": {},
   "source": [
    "### 1.a Estadísticos de resumen \n"
   ]
  },
  {
   "cell_type": "code",
   "execution_count": null,
   "metadata": {},
   "outputs": [],
   "source": [
    "# Para una variable continua:\n",
    "mean(mtcars$mpg)"
   ]
  },
  {
   "cell_type": "code",
   "execution_count": null,
   "metadata": {},
   "outputs": [],
   "source": [
    "# Para una variable categórica:\n",
    "table(mtcars$cyl)"
   ]
  },
  {
   "cell_type": "code",
   "execution_count": null,
   "metadata": {},
   "outputs": [],
   "source": [
    "# Dos variables categóricas:\n",
    "table(mtcars$cyl,mtcars$am)"
   ]
  },
  {
   "cell_type": "code",
   "execution_count": null,
   "metadata": {},
   "outputs": [],
   "source": [
    "# Una continua y una categórica:\n",
    "mean(mtcars$mpg[mtcars$cyl==4])\n",
    "mean(mtcars$mpg[mtcars$cyl==6])\n",
    "mean(mtcars$mpg[mtcars$cyl==8])"
   ]
  },
  {
   "cell_type": "markdown",
   "metadata": {},
   "source": [
    "### 1.b Graficar \n"
   ]
  },
  {
   "cell_type": "code",
   "execution_count": null,
   "metadata": {},
   "outputs": [],
   "source": [
    "# Una variable continua:\n",
    "hist(mtcars$disp)\n",
    "\n",
    "bloxpot(mtcars$disp)"
   ]
  },
  {
   "cell_type": "code",
   "execution_count": null,
   "metadata": {},
   "outputs": [],
   "source": [
    "# Una variable categórica:\n",
    "barplot(table(mtcars$cyl))"
   ]
  },
  {
   "cell_type": "code",
   "execution_count": null,
   "metadata": {},
   "outputs": [],
   "source": [
    "# Dos variables categóricas:\n",
    "mosaicplot(table(mtcrs$sm, mtcars%cyl))"
   ]
  },
  {
   "cell_type": "markdown",
   "metadata": {},
   "source": [
    "### 1.c Manejo de datos\n"
   ]
  },
  {
   "cell_type": "code",
   "execution_count": null,
   "metadata": {},
   "outputs": [],
   "source": [
    "# Crear subconjuntos:\n",
    "mtcars[mtcars$mpg > 30,]"
   ]
  },
  {
   "cell_type": "markdown",
   "metadata": {},
   "source": [
    "## 2. Sintaxis de fórmula\n",
    "\n",
    "Es usaba especialmente para funciones. Se caracterizar por usar la virgulilla ~. La estructura de esta sintaxis es:"
   ]
  },
  {
   "cell_type": "code",
   "execution_count": null,
   "metadata": {
    "collapsed": true
   },
   "outputs": [],
   "source": [
    "objetivo(y~x|z,data=data,group=w)"
   ]
  },
  {
   "cell_type": "markdown",
   "metadata": {},
   "source": [
    "### 2.a Estadísticos de resumen \n"
   ]
  },
  {
   "cell_type": "code",
   "execution_count": null,
   "metadata": {},
   "outputs": [],
   "source": [
    "# Una variable continua:\n",
    "mosaic::mean(~mpg, data = mtcars)"
   ]
  },
  {
   "cell_type": "code",
   "execution_count": null,
   "metadata": {},
   "outputs": [],
   "source": [
    "# Una variable categórica:\n",
    "mosaic::tally(~cyl, data = mtcars)"
   ]
  },
  {
   "cell_type": "code",
   "execution_count": null,
   "metadata": {},
   "outputs": [],
   "source": [
    "# Dos variables categóricas:\n",
    "mosaic::tally(cyl~am, data = mtcars)"
   ]
  },
  {
   "cell_type": "code",
   "execution_count": null,
   "metadata": {},
   "outputs": [],
   "source": [
    "# Una variable continua y una categórica\n",
    "mosaic::mean(mpg~cyl, data = mtcars)"
   ]
  },
  {
   "cell_type": "markdown",
   "metadata": {},
   "source": [
    "### 2.b Graficar \n"
   ]
  },
  {
   "cell_type": "code",
   "execution_count": null,
   "metadata": {},
   "outputs": [],
   "source": [
    "# Una variable continua:\n",
    "lattice::histogram(~disp, data = mtcars)\n",
    "\n",
    "lattice::bwplot(~disp, data = mtcars)"
   ]
  },
  {
   "cell_type": "code",
   "execution_count": null,
   "metadata": {},
   "outputs": [],
   "source": [
    "# Una variable categórica\n",
    "mosaic::bargraph(~cyl, data = mtcars)"
   ]
  },
  {
   "cell_type": "code",
   "execution_count": null,
   "metadata": {},
   "outputs": [],
   "source": [
    "# Dos variables continuas\n",
    "lattice::xyplot(mpg~disp, data = mtcars)"
   ]
  },
  {
   "cell_type": "code",
   "execution_count": null,
   "metadata": {},
   "outputs": [],
   "source": [
    "# Dos variables categóricas\n",
    "mosaic::bargraph(~am, data = mtcars, group = cyl)"
   ]
  },
  {
   "cell_type": "code",
   "execution_count": null,
   "metadata": {},
   "outputs": [],
   "source": [
    "# Una contiua, una categórica\n",
    "lattice::histogram(~disp|cyl, data = mtcars)\n",
    "\n",
    "lattice::bwplot(cyl~disp, data = mtcars)"
   ]
  },
  {
   "cell_type": "markdown",
   "metadata": {},
   "source": [
    "### 2.c Manejo de datos\n"
   ]
  },
  {
   "cell_type": "markdown",
   "metadata": {},
   "source": [
    "## 3. Sintaxis del Tidyverse\n",
    "\n",
    "Tidyverse es una libreria de R conformada por varios paquetes (ggplot, dplyr, tidyr, readr, purrr, tibble, stringr, forcats) que comparten nombres y estructuras comunes diseñados para ayudar en el proceso de importar, transfromar, visualizar y modelar la data con la que trabajamos. Su uso está bastante difundido por lo que es necesario manejarlos.\n",
    "\n",
    "Usa el simbolo de porcentaje %. La estructura de esta sintaxis es:"
   ]
  },
  {
   "cell_type": "code",
   "execution_count": null,
   "metadata": {},
   "outputs": [],
   "source": [
    "data %>% objetivo(x)"
   ]
  },
  {
   "cell_type": "markdown",
   "metadata": {},
   "source": [
    "### 3.a Estadísticos de resumen \n"
   ]
  },
  {
   "cell_type": "code",
   "execution_count": null,
   "metadata": {},
   "outputs": [],
   "source": [
    "# Una variable continua\n",
    "mtcars %>% dplyr::summarize(mean(mpg))"
   ]
  },
  {
   "cell_type": "code",
   "execution_count": null,
   "metadata": {},
   "outputs": [],
   "source": [
    "# Una variable categórica\n",
    "mtcars %>% dplyr::group_by(cyl) %>%\n",
    "dplyr::summarize(n())"
   ]
  },
  {
   "cell_type": "code",
   "execution_count": null,
   "metadata": {},
   "outputs": [],
   "source": [
    "# Dos variables categóricas\n",
    "mtcars %>% dplyr::group_by(cyl, am) %>%\n",
    "dplyr::summarize(n())"
   ]
  },
  {
   "cell_type": "code",
   "execution_count": null,
   "metadata": {},
   "outputs": [],
   "source": [
    "# Una continua, una categórica\n",
    "mtcars %>% dplyr::group_by(cyl) %>%\n",
    "dplyr::summarize(mean(mpg))"
   ]
  },
  {
   "cell_type": "markdown",
   "metadata": {},
   "source": [
    "### 3.b Graficar \n"
   ]
  },
  {
   "cell_type": "code",
   "execution_count": null,
   "metadata": {},
   "outputs": [],
   "source": [
    "# Una variable continua\n",
    "ggplot2::qplot(x=mpg, data=mtcars, geom=\"histogram\")\n",
    "ggplot2::qplot(y=disp, x=1, data=mtcars, geom=\"boxplot\")"
   ]
  },
  {
   "cell_type": "code",
   "execution_count": null,
   "metadata": {},
   "outputs": [],
   "source": [
    "# Una variable categórica\n",
    "ggplot2::qplot(x=cyl, data=mtcars, geom=\"bar\")"
   ]
  },
  {
   "cell_type": "code",
   "execution_count": null,
   "metadata": {},
   "outputs": [],
   "source": [
    "# Dos variables continuas\n",
    "ggplot2::qplot(x=disp, y=mpg, data=mtcars, geom=\"point\")"
   ]
  },
  {
   "cell_type": "code",
   "execution_count": null,
   "metadata": {},
   "outputs": [],
   "source": [
    "# Dos variables categóricas\n",
    "ggplot2::qplot(x=factor(cyl), data=mtcars, geom=\"bar\") +\n",
    "    facet_grid(.~cyl)"
   ]
  },
  {
   "cell_type": "code",
   "execution_count": null,
   "metadata": {},
   "outputs": [],
   "source": [
    "# Una continua, una categórica\n",
    "ggplot2::qplot(x=disp, data=mtcars, geom=\"histogram\") +\n",
    "    facet_grid(.~cyl)\n",
    "\n",
    "ggplot2::qplot(y=disp, x=factor(cyl), data=mtcars, geom=\"boxplot\")"
   ]
  },
  {
   "cell_type": "markdown",
   "metadata": {},
   "source": [
    "### 3.c Manejo de datos\n"
   ]
  },
  {
   "cell_type": "code",
   "execution_count": null,
   "metadata": {},
   "outputs": [],
   "source": [
    "# Crear subconjuntos\n",
    "mtcars %>% dplyr::filter(mpg>30)"
   ]
  },
  {
   "cell_type": "code",
   "execution_count": null,
   "metadata": {},
   "outputs": [],
   "source": [
    "# Crear una nueva variable\n",
    "mtcars  <- mtcars %>% \n",
    "    dplyr::mutate(efficient = if_else(mpg>30, TRUE, FALSE))"
   ]
  }
 ],
 "metadata": {
  "kernelspec": {
   "display_name": "R",
   "language": "R",
   "name": "ir"
  },
  "language_info": {
   "codemirror_mode": "r",
   "file_extension": ".r",
   "mimetype": "text/x-r-source",
   "name": "R",
   "pygments_lexer": "r",
   "version": "3.6.1"
  }
 },
 "nbformat": 4,
 "nbformat_minor": 4
}
